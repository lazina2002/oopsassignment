{
  "nbformat": 4,
  "nbformat_minor": 0,
  "metadata": {
    "colab": {
      "provenance": []
    },
    "kernelspec": {
      "name": "python3",
      "display_name": "Python 3"
    },
    "language_info": {
      "name": "python"
    }
  },
  "cells": [
    {
      "cell_type": "markdown",
      "source": [
        "THEORY QUESTIONS"
      ],
      "metadata": {
        "id": "jZJQIuOy45KE"
      }
    },
    {
      "cell_type": "markdown",
      "source": [
        "1.What is Object-Oriented Programming (OOP)?\n",
        "- OOPS  stand for object-oriented programming system. Object-oriented programming is a computer programming model that organizes software design around objects, or data, instead of logic and functions. In OOP, objects are created from templates called classes, which define the behavior and properties of the objects they create."
      ],
      "metadata": {
        "id": "lghZvxLs4_GM"
      }
    },
    {
      "cell_type": "markdown",
      "source": [
        "2.what is class in oops?\n",
        "- A user-defined data type that describes the nature of an object. A class includes a declaration and definition, which can be split into separate files. A class can define the types of operations, or methods, that can be performed on an object."
      ],
      "metadata": {
        "id": "t7hMHpk756ip"
      }
    },
    {
      "cell_type": "markdown",
      "source": [
        "3.what is an object in oops?\n",
        "- A single instance of a class, created with specifically defined data. Objects can represent real-world entities, such as a car or book, or abstract entities"
      ],
      "metadata": {
        "id": "va2-lNHX6M4V"
      }
    },
    {
      "cell_type": "markdown",
      "source": [
        "4.what is a difference between abstraction and encapsulation?\n",
        "- Abstraction is a fundamental concept in Python programming that allows us to simplify complex concepts and focus on the essential details. It involves hiding unnecessary details and exposing only the relevant information to the users.\n",
        "- ENCAPSULATION:encapsulation is one of the fundamental concept of object oriented programming system which means bundling of data and method of a classs.\n"
      ],
      "metadata": {
        "id": "ESjkiB9R6aYG"
      }
    },
    {
      "cell_type": "markdown",
      "source": [
        "5.what are dunder methods in python?\n",
        "- Dunder methods, also known as magic methods or special methods, are predefined methods in Python that have double underscores  at the beginning and end of their names. These methods provide a way to define specific behaviors for built-in operations or functionalities in Python classes."
      ],
      "metadata": {
        "id": "38fk-WHR_MMB"
      }
    },
    {
      "cell_type": "markdown",
      "source": [
        "6.explain the concept of inheritance in python.\n",
        "- Inheritance in Python is a feature that allows a class to inherit the properties and methods of another class. This allows to reuse code and write it once instead of copying it for each class that needs it."
      ],
      "metadata": {
        "id": "r5yZqwtOATo_"
      }
    },
    {
      "cell_type": "markdown",
      "source": [
        "7.what is polymorphism in python?\n",
        "- Polymorphism is a fundamental concept in object-oriented programming in Python that allows a single type of entity to represent many types in different contexts.poly means many nad phormism means forms.\n"
      ],
      "metadata": {
        "id": "Vz0ibrHWA366"
      }
    },
    {
      "cell_type": "markdown",
      "source": [
        "8.how is encapsulation achieved in python?\n",
        "- in Python, encapsulation is achieved by using access modifiers to restrict access to a class's variables and methods:\n",
        "Public\n",
        "By default, all attributes and methods in a Python class are public and can be accessed from outside the class.\n",
        "Private\n",
        "To define a private variable, add two underscores as a prefix at the start of a variable name. Private members are only accessible within the class.\n",
        "Protected\n",
        "To indicate that an attribute is meant for internal use only within the class and its subclass, use a single underscore as a prefix."
      ],
      "metadata": {
        "id": "7vpdVu5RBM0e"
      }
    },
    {
      "cell_type": "markdown",
      "source": [
        "9.what is a constructor in python?\n",
        "- A constructor in Python is a special method that initializes an object by assigning values to its data members when it's created."
      ],
      "metadata": {
        "id": "AQhE36JwBr4n"
      }
    },
    {
      "cell_type": "markdown",
      "source": [
        "10.what are class and static methods in python?\n",
        "- A class method takes cls as the first parameter while a static method needs no specific parameters. A class method can access or modify the class state while a static method can't access or modify it. In general, static methods know nothing about the class state.\n"
      ],
      "metadata": {
        "id": "z3KzZOX6B4nw"
      }
    },
    {
      "cell_type": "markdown",
      "source": [
        "11.what is method overloading in python?\n",
        "- Two or more methods have the same name but different numbers of parameters or different types of parameters, or both. These methods are called overloaded methods and this is called method overloading."
      ],
      "metadata": {
        "id": "6FohOIX_CG5D"
      }
    },
    {
      "cell_type": "markdown",
      "source": [
        "12.what is method overriding in oops?\n",
        "- Method overriding in Python occurs when a child class defines a method that has the same name and parameters as a method in its parent class. The child class method overrides or replaces the parent class method when called on an instance of the child class."
      ],
      "metadata": {
        "id": "PqTSR3IICTB_"
      }
    },
    {
      "cell_type": "markdown",
      "source": [
        "13.what is property decorator in python?\n",
        "- The decorator is a built-in Python decorator that allows you to turn class methods into properties in a way that's both elegant and user-friendly"
      ],
      "metadata": {
        "id": "gKxc8SjGCf94"
      }
    },
    {
      "cell_type": "markdown",
      "source": [
        "14.why is polymorphism important in oops?\n",
        "- Polymorphism allows for flexible code design and code reuse. It also enables developers to write clean, readable, and resilient code."
      ],
      "metadata": {
        "id": "wXMfWF6mC13w"
      }
    },
    {
      "cell_type": "markdown",
      "source": [
        "15.what is an abstract class in python?\n",
        "- an abstract class is a class that cannot be instantiated on its own and is designed to be a blueprint for other classes:\n",
        "Abstract classes provide a common interface for subclasses while allowing them to provide specific implementations."
      ],
      "metadata": {
        "id": "5VXSj3NXDIaY"
      }
    },
    {
      "cell_type": "markdown",
      "source": [
        "16.what are advantage of oops?\n",
        "- Encapsulation :Encapsulation combines data and code together, which allows developers to modify the internal details of an object without affecting the external code.\n",
        "\n",
        "- Inheritance:Inheritance allows children classes to inherit properties and behaviors from the parent class, which promotes code reusability and reduces duplicate code.\n",
        "\n",
        "- Code reusability:Objects and their behaviors can be reused in different parts of an application or even across multiple projects.\n",
        "\n",
        "- Abstraction:abstraction provides only essential information about the data to the outside world, hiding the background details or implementation.\n",
        "\n",
        "- Modularity:Modularity is achieved through encapsulation, which enhances code organization and makes it easier to debug and maintain.\n",
        "\n",
        "- Code maintenance:OOP makes it easy for developers to incorporate new changes into the code.\n",
        "Scalability:OOP promotes scalability by making it easy to add new features or functionalities without changing existing code"
      ],
      "metadata": {
        "id": "oxD_nPMuD6fh"
      }
    },
    {
      "cell_type": "markdown",
      "source": [
        "17.What is the difference between a class variable and an instance variable?\n",
        "- Class variables:Class variables are useful for sharing data between all instances of a class, such as keeping track of the number of instances created or storing a constant value.\n",
        "\n",
        "- Instance variables:Each instantiated object of a class has its own copy of an instance variable. Instance variables are useful for storing data that is specific to each instance, such as a person's name or age."
      ],
      "metadata": {
        "id": "dvS15Jr1E0kB"
      }
    },
    {
      "cell_type": "markdown",
      "source": [
        "18.what is multiple inheritance in python.\n",
        "- If a child class is inheriting the properties of a single other class, we call it single inheritance. However, if a child class inherits from more than one class, i.e. this child class is derived from multiple classes, we call it multiple inheritance in Python."
      ],
      "metadata": {
        "id": "dZ043fBvFWVE"
      }
    },
    {
      "cell_type": "markdown",
      "source": [
        "19. Explain the purpose of ‘’__str__’ and ‘__repr__’ ‘ methods in Python?\n",
        "- str:Returns a human-readable string representation of an object. It's called by the print(), str(), and format() functions. The goal of __str__ is to make the output readable and user-friendly.\n",
        "- repr:Returns an unambiguous string representation of an object. It's called by the repr() function. The goal of __repr__ is to make the output clear and informative, often including enough information to recreate the object."
      ],
      "metadata": {
        "id": "h9SG4T4IFkLU"
      }
    },
    {
      "cell_type": "markdown",
      "source": [
        "20.What is the significance of the ‘super()’ function in Python?\n",
        "- The super() function in Python is a built-in function that allows you to access methods and properties of a parent class from a child class. This is useful when working with inheritance in object-oriented programming."
      ],
      "metadata": {
        "id": "wYm1NE5SGJvu"
      }
    },
    {
      "cell_type": "markdown",
      "source": [
        "21. What is the significance of the __del__ method in Python?\n",
        "- The del method in Python is a destructor method that's called when an object is about to be destroyed. It's used to:\n",
        "Perform cleanup actions, such as closing files or releasing locks."
      ],
      "metadata": {
        "id": "slIHtlUNGURF"
      }
    },
    {
      "cell_type": "markdown",
      "source": [
        "22.What is the difference between @staticmethod and @classmethod in Python?\n",
        "- While a static method requires no specific parameters, a class method takes cls as its first argument. While a static method cannot access or modify the class state, a class method can. Static methods are typically unaware of the class state."
      ],
      "metadata": {
        "id": "qwr5ER1FGpGg"
      }
    },
    {
      "cell_type": "markdown",
      "source": [
        "23. How does polymorphism work in Python with inheritance?\n",
        "- Polymorphism, a child class method is allowed to have the same name as the class methods in the parent class. In inheritance, the methods belonging to the parent class are passed down to the child class. It's also possible to change a method that a child class has inherited from its parent"
      ],
      "metadata": {
        "id": "wD60ha7_Gzln"
      }
    },
    {
      "cell_type": "markdown",
      "source": [
        "24.What is method chaining in Python OOP?\n",
        "- Method chaining is a powerful technique in Python that enables us to perform a sequence of operations on an object in a concise and readable manner."
      ],
      "metadata": {
        "id": "71kL8F-UG_jW"
      }
    },
    {
      "cell_type": "markdown",
      "source": [
        "25.What is the purpose of the __call__ method in Python?\n",
        "- The call method makes instances of a class callable, allowing them to be treated and executed like functions. This enhances the versatility of Python's object-oriented programming paradigm"
      ],
      "metadata": {
        "id": "_FCw0FTBHNrK"
      }
    },
    {
      "cell_type": "markdown",
      "source": [
        "PRACTICAL QUESTIONS"
      ],
      "metadata": {
        "id": "eOSJr-xuHo8S"
      }
    },
    {
      "cell_type": "code",
      "source": [
        "#Create a parent class Animal with a method speak() that prints a generic message. Create a child class Dog\n",
        "#that overrides the speak() method to print \"Bark!\".\n",
        "class animal:\n",
        "  def speak(self):\n",
        "    print(\"this is generic message\")\n",
        "class dog(animal):\n",
        "  def speak(self):\n",
        "    print(\"bark!\")\n",
        "\n"
      ],
      "metadata": {
        "id": "1nh0G_BOHsKc"
      },
      "execution_count": null,
      "outputs": []
    },
    {
      "cell_type": "code",
      "source": [
        "obj=animal()\n",
        "obj.speak()"
      ],
      "metadata": {
        "colab": {
          "base_uri": "https://localhost:8080/"
        },
        "id": "aliQ0KVRakoK",
        "outputId": "a3f115f1-320b-4993-8ed9-cf8557713296"
      },
      "execution_count": null,
      "outputs": [
        {
          "output_type": "stream",
          "name": "stdout",
          "text": [
            "this is generic message\n"
          ]
        }
      ]
    },
    {
      "cell_type": "code",
      "source": [
        "obj2=dog()\n",
        "obj2.speak()\n"
      ],
      "metadata": {
        "colab": {
          "base_uri": "https://localhost:8080/"
        },
        "id": "BrxfBDxAaxlo",
        "outputId": "45607630-ab71-4da4-8207-8a62f9666d94"
      },
      "execution_count": null,
      "outputs": [
        {
          "output_type": "stream",
          "name": "stdout",
          "text": [
            "bark!\n"
          ]
        }
      ]
    },
    {
      "cell_type": "code",
      "source": [
        "#2. Write a program to create an abstract class Shape with a method area(). Derive classes Circle and Rectangle\n",
        "#from it and implement the area() method in both.\n",
        "from abc import ABC, abstractmethod\n",
        "class shape(ABC):\n",
        "  def area(self):\n",
        "    print(\"calculate the area\")\n",
        "class cirle(shape):\n",
        "  def area(self,radius):\n",
        "    return 3.14*radius*radius\n",
        "class rectangle(shape):\n",
        "  def area(self,length,width):\n",
        "    return length*width\n"
      ],
      "metadata": {
        "id": "41K5NgMQa5JJ"
      },
      "execution_count": 10,
      "outputs": []
    },
    {
      "cell_type": "code",
      "source": [
        "#3.implement a multilevel inheritance where a class vehicle has an attribute type.derive and further derive a class electriccar that adds a battery attribute\n",
        "class vehicle:\n",
        "  def __init__(self,type):\n",
        "    self.type=type\n",
        "class car(vehicle):\n",
        "  def __init__(self,type,battery):\n",
        "    super().__init__(type)\n",
        "    self.battery=battery\n",
        "    class electriccar(car):\n",
        "     def __init__(self,type,battery,range):\n",
        "      super().__init__(type,battery)\n",
        "      self.range=range\n",
        "\n",
        "\n"
      ],
      "metadata": {
        "id": "iiRSCMZJIhcb"
      },
      "execution_count": 9,
      "outputs": []
    },
    {
      "cell_type": "code",
      "source": [
        "#4.implement a multilevel inheritance where a class vehicle has an attribute type.derive and further derive a class electriccar that adds a battery attribute\n",
        "class vehicle:\n",
        "  def __init__(self,type):\n",
        "    self.type=type\n",
        "class car(vehicle):\n",
        "  def __init__(self,type,battery):\n",
        "    super().__init__(type)\n",
        "    self.battery=battery\n",
        "    class electriccar(car):\n",
        "     def __init__(self,type,battery,range):\n",
        "      super().__init__(type,battery)\n",
        "      self.range=range\n",
        "\n"
      ],
      "metadata": {
        "id": "ydweVITkJtJx"
      },
      "execution_count": 8,
      "outputs": []
    },
    {
      "cell_type": "code",
      "source": [
        "#5.write a program to demostrate encapsulation by creating a class bankaccount with private attributes balance and methods to deposits withdraw and check balance.\n",
        "class bankaccount:\n",
        "  def __init__(self,balance):\n",
        "    self.__balance=balance\n",
        "    def deposit(self,amount):\n",
        "      self.__balance+=amount\n",
        "  def withdraw(self,amount):\n",
        "    if amount<=self.__balance:\n",
        "      self.__balance-=amount\n",
        "    else:\n",
        "      print(\"insufficient balance\")"
      ],
      "metadata": {
        "id": "GvtIxpMOKMsQ"
      },
      "execution_count": null,
      "outputs": []
    },
    {
      "cell_type": "code",
      "source": [
        "#6.demonstrate runtime polymorphism using a method pay() in a base class instrument .derive classes guitar and piano that implements their owm version of play().\n",
        "class instrument:\n",
        " def __init__(self,name):\n",
        "  self.name=name\n",
        "  def play(self):\n",
        "    pass\n",
        "class guitar(instrument):\n",
        "  def play(self):\n",
        "    print(\"guitar is playing\")\n",
        "class piano(instrument):\n",
        "  def play(self):\n",
        "    print(\"piano is playing\")"
      ],
      "metadata": {
        "id": "Ois2zXk5K5GO"
      },
      "execution_count": null,
      "outputs": []
    },
    {
      "cell_type": "code",
      "source": [
        "#7.create a class mathoperation with a class method add_numbers to add two numbers and a static method substract_numbers() to substract two numbers.\n",
        "class mathoperation:\n",
        "  @classmethod\n",
        "  def add_numbers(cls,a,b):\n",
        "    return a+b\n",
        "    @staticmethod\n",
        "    def substract_numbers(a,b):\n",
        "      return a-b\n",
        "\n"
      ],
      "metadata": {
        "id": "sKA_QGHnLiUu"
      },
      "execution_count": null,
      "outputs": []
    },
    {
      "cell_type": "code",
      "source": [
        "#8.implement a class person with a class method to count the total numbers of person created.\n",
        "class person:\n",
        "  count=0\n",
        "  def __init__(self,name):\n",
        "    self.name=name\n",
        "    person.count+=1\n",
        "    @classmethod\n",
        "    def get_count(cls):\n",
        "      return person.count\n",
        ""
      ],
      "metadata": {
        "id": "WX-XuDuyMdiH"
      },
      "execution_count": null,
      "outputs": []
    },
    {
      "cell_type": "code",
      "source": [
        "#9.write a class fraction with attrubute numerator and denominator .override the str method to display the fraction as numerator/denominator.\n",
        "class fraction:\n",
        " def __init__(self,numerator,denominator):\n",
        "  self.numerator=numerator\n",
        "  self.denominator=denominator\n",
        "  def __str__(self):\n",
        "    return f\"{self.numerator}/{self.denominator}\""
      ],
      "metadata": {
        "id": "yonp36LhM78c"
      },
      "execution_count": null,
      "outputs": []
    },
    {
      "cell_type": "code",
      "source": [
        "#10.demostrate operator overloading by creating a class vector and overirde the add method to add two vectors\n",
        "class vector:\n",
        "  def __init__(self,x,y):\n",
        "    self.x=x\n",
        "    self.y=y\n",
        "  def __add__(self,other):\n",
        "    return vector(self.x+other.x,self.y+other.y)"
      ],
      "metadata": {
        "id": "n6x-4E8BOIMZ"
      },
      "execution_count": 1,
      "outputs": []
    },
    {
      "cell_type": "code",
      "source": [
        "#11.create a class person with attributs name and age .add a method greet() that prints\"hello,my name is {name} and i am {age}years old\"\n",
        "class person:\n",
        "  def __init__(self,name,age):\n",
        "    self.name=name\n",
        "    self.age=age\n",
        "    def greet(self):\n",
        "      print(f\"hello,my name is {self.name} and i am {self.age}years old\")"
      ],
      "metadata": {
        "id": "CqVNQgziEl36"
      },
      "execution_count": 6,
      "outputs": []
    },
    {
      "cell_type": "code",
      "source": [
        "#12.implement a class student with attributs name and grades .create a method average_grade() to compute the average of the grades\n",
        "class student:\n",
        "  def __init__(self,name,grades):\n",
        "    self.name=name\n",
        "    self.grades=grades\n",
        "  def average_grade(self):\n",
        "    return sum(self.grades)/len(self.grades)"
      ],
      "metadata": {
        "id": "rVTjKFN9FHz6"
      },
      "execution_count": 3,
      "outputs": []
    },
    {
      "cell_type": "code",
      "source": [
        "#13.create a class rectangle with methods set_dimension() to set the dimension and area() to calculate the area\n",
        "class rectange:\n",
        "  def __init__(self,length,width):\n",
        "    self.length=length\n",
        "    self.width=width\n",
        "    def set_dimension(self,length,width):\n",
        "     self.length=length\n",
        "     self.width=width\n",
        "    def area(self):\n",
        "      return self.length*self.width\n"
      ],
      "metadata": {
        "id": "akydTfPoFe--"
      },
      "execution_count": 11,
      "outputs": []
    },
    {
      "cell_type": "code",
      "source": [
        "#14.create a employee with method calculate_salary() that compute the salary based om hours worked and hourly rate .create a derived class manager that add bonus to the salary\n",
        "class employee:\n",
        "  def __init__(self,name,hours_worked,hourly_rate):\n",
        "    self.name=name\n",
        "    self.hours_worked=hours_worked\n",
        "    self.hourly_rate=hourly_rate\n",
        "    def calculate_salary(self):\n",
        "      return self.hours_worked*self.hourly_rate\n",
        ""
      ],
      "metadata": {
        "id": "6kXyAAZuF7EW"
      },
      "execution_count": 12,
      "outputs": []
    },
    {
      "cell_type": "code",
      "source": [
        "#15.create a class product with attributes name price quantity implement a method totsl_price() thst calculate the total pricce of the product\n",
        "class product:\n",
        "  def __init__(self,name,price,quantity):\n",
        "    self.name=name\n",
        "    self.price=price\n",
        "    self.quantity=quantity\n",
        "    def total_price(self):\n",
        "      return self.price*self.quantity"
      ],
      "metadata": {
        "id": "RFa9ma4JHRWb"
      },
      "execution_count": 13,
      "outputs": []
    },
    {
      "cell_type": "code",
      "source": [
        "#16.create a class animal with an abstract method sound().create two dervied classes cow and sheep that implement the sound() method\n",
        "from abc import ABC,abstractmethod\n",
        "class animal(ABC):\n",
        "  @abstractmethod\n",
        "  def sound(self):\n",
        "    pass\n",
        "class cow(animal):\n",
        "  def sound(self):\n",
        "    print(\"moo\")\n",
        "class sheep(animal):\n",
        "  def sound(self):\n",
        "    print(\"baa\")"
      ],
      "metadata": {
        "id": "HQiWC-frHjm3"
      },
      "execution_count": 15,
      "outputs": []
    },
    {
      "cell_type": "code",
      "source": [
        "#17.create a class book with attribute titlr author and year_publshes add a method get_book_info() that returns a formatted strng with books detild\n",
        "class book:\n",
        "  def __init__(self,title,author,year_published):\n",
        "    self.title=title\n",
        "    self.author=author\n",
        "    self.year_published=year_published\n",
        "    def get_book_info(self):\n",
        "      return f\"{self.title} by {self.author} ({self.year_published})\"\n",
        ""
      ],
      "metadata": {
        "id": "ET7h9rURH6hb"
      },
      "execution_count": 16,
      "outputs": []
    },
    {
      "cell_type": "code",
      "source": [
        "#18.create a class house with attributes address and price create a deived class mansion that adds an attributes numbers_of_rooms\n",
        "class house:\n",
        "  def __init__(self,address,price):\n",
        "    self.address=address\n",
        "    self.price=price\n",
        "    class mansion(house):\n",
        "      def __init__(self,address,price,number_of_rooms):\n",
        "        super().__init__(address,price)\n",
        "        self.number_of_rooms=number_of_rooms\n",
        "        def get_house_info(self):\n",
        "          return f\"{self.address} for ${self.price} with {self.number_of_rooms} rooms\"\n"
      ],
      "metadata": {
        "id": "TpLJipqSIUgX"
      },
      "execution_count": 20,
      "outputs": []
    },
    {
      "cell_type": "code",
      "source": [],
      "metadata": {
        "id": "G0RYQ_12Ih5u"
      },
      "execution_count": null,
      "outputs": []
    }
  ]
}